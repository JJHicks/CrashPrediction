{
 "cells": [
  {
   "cell_type": "code",
   "execution_count": 11,
   "metadata": {},
   "outputs": [
    {
     "name": "stdout",
     "output_type": "stream",
     "text": [
      "Column names are Crash ID, Adjusted Average Daily Traffic Amount, Commercial Motor Vehicle Flag, Crash Death Count, Crash Time, Crash Total Injury Count, Curve Degrees, Curve Type, Day of Week, Inside Shoulder Width on Divided Highway, Latitude, Light Condition, Longitude, Manner of Collision, Number of Lanes, Object Struck, Outside Shoulder Width on Divided Highway, Property Damages, Road Class, Street Name, Street Number, Surface Condition, Weather Condition, Driver Alcohol Result\n"
     ]
    }
   ],
   "source": [
    "import csv\n",
    "import os\n",
    "\n",
    "data_path = os.path.expanduser('~/Desktop/CrashPrediction/crashprediction/Data/TarrantCounty2018Crashes.csv')\n",
    "\n",
    "parsed_data = [[] for i in range(81790)]\n",
    "death_count = []\n",
    "\n",
    "with open(data_path) as data:\n",
    "    csv_reader = csv.reader(data, delimiter=',')\n",
    "    line_count = 0\n",
    "    for row in csv_reader:\n",
    "        if line_count == 0:\n",
    "            print(f'Column names are {\", \".join(row)}')\n",
    "            line_count += 1\n",
    "        else:\n",
    "            for i in range(24):\n",
    "                  if i != 3:\n",
    "                      parsed_data[line_count - 1].append(row[i])\n",
    "            death_count.append(row[3])\n",
    "            line_count += 1\n"
   ]
  },
  {
   "cell_type": "code",
   "execution_count": 12,
   "metadata": {},
   "outputs": [
    {
     "name": "stdout",
     "output_type": "stream",
     "text": [
      "['16188023', 'No Data', 'No', '2329', '1', 'No Data', 'No Data', 'MONDAY', 'No Data', '32.6628643', '3 - DARK, LIGHTED', '-97.4168', 'ONE MOTOR VEHICLE - TURNING RIGHT', 'No Data', 'HIT OTHER FIXED OBJECT', 'No Data', 'NONE', 'CITY STREET', 'OAKMONT BLVD', 'NO DATA', '1 - DRY', '1 - CLEAR', 'No Data']\n",
      "Death count: 0\n"
     ]
    }
   ],
   "source": [
    "#test the data once it has been inserted...\n",
    "print(parsed_data[0])\n",
    "print(\"Death count:\", death_count[0])"
   ]
  },
  {
   "cell_type": "code",
   "execution_count": null,
   "metadata": {},
   "outputs": [],
   "source": [
    "#data has been inserted into variables, go from there for the model..."
   ]
  }
 ],
 "metadata": {
  "kernelspec": {
   "display_name": "Python 3",
   "language": "python",
   "name": "python3"
  },
  "language_info": {
   "codemirror_mode": {
    "name": "ipython",
    "version": 3
   },
   "file_extension": ".py",
   "mimetype": "text/x-python",
   "name": "python",
   "nbconvert_exporter": "python",
   "pygments_lexer": "ipython3",
   "version": "3.7.4"
  }
 },
 "nbformat": 4,
 "nbformat_minor": 2
}
